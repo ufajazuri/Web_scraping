{
 "cells": [
  {
   "cell_type": "markdown",
   "id": "db9f01a1",
   "metadata": {},
   "source": [
    "# JD.ID Web Scraping Project Using Selenium\n",
    "\n",
    "Ini adalah projek Web Scraping dari salah satu marketplace yaitu JD.ID. Produk yang akan diambil adalah laptop. Informasi yang diambil dari tiap produk meliputi nama produk, harga produk, dan ratingnya. \n",
    "Beberapa libraries yang digunakan untuk project Web Scraping sederhana ini adalah sebagai berikut. "
   ]
  },
  {
   "cell_type": "markdown",
   "id": "55e66e37",
   "metadata": {},
   "source": [
    "Perintah di bawah ini bertujuan untuk menndefinisikan web browser yang akan digunakan untuk melakukan web-scraping.\n",
    "Ini menyediakan kemampuan untuk menavigasi ke halaman web, input pengguna, eksekusi JavaScript, dan banyak lagi. \n",
    "Sebagian tutorial memberikan perintah webdriver.Chrome('chromedriver.exe'), namun untuk beberapa alasan perintah ini tidak bisa dieksekusi (seperti yg saya lakukan ini contohnya). \n",
    "Salah satu alasannya karena chrome browser dan chrome driver yang ada di PC kita bukan dari versi yang sama. Jadi untuk memudahkan bisa digunakan perintah seperti pada baris ke-3 dan 4 di bawah ini."
   ]
  },
  {
   "cell_type": "markdown",
   "id": "b3538bea",
   "metadata": {},
   "source": [
    "# Import libraries"
   ]
  },
  {
   "cell_type": "code",
   "execution_count": null,
   "id": "ac14bce5",
   "metadata": {},
   "outputs": [],
   "source": [
    "from selenium import webdriver\n",
    "from webdriver_manager.chrome import ChromeDriverManager\n",
    "driver = webdriver.Chrome(ChromeDriverManager().install())\n",
    "import pandas as pd"
   ]
  },
  {
   "cell_type": "markdown",
   "id": "7fbca151",
   "metadata": {},
   "source": [
    "# Masuk ke URL dimana kita melakukan web scraping"
   ]
  },
  {
   "cell_type": "code",
   "execution_count": 64,
   "id": "5fbd6fbb",
   "metadata": {},
   "outputs": [
    {
     "data": {
      "text/plain": [
       "[<selenium.webdriver.remote.webelement.WebElement (session=\"ec88a99686528861ab8c8f39f4c01777\", element=\"32a2c9ef-9dee-4f97-9cf5-fd642b244514\")>,\n",
       " <selenium.webdriver.remote.webelement.WebElement (session=\"ec88a99686528861ab8c8f39f4c01777\", element=\"20427ab8-626f-470e-8e53-0e9c678d50d1\")>,\n",
       " <selenium.webdriver.remote.webelement.WebElement (session=\"ec88a99686528861ab8c8f39f4c01777\", element=\"35fa623c-8b22-4fee-90e6-8b1149fe9919\")>,\n",
       " <selenium.webdriver.remote.webelement.WebElement (session=\"ec88a99686528861ab8c8f39f4c01777\", element=\"2c49f449-bd86-4d53-b347-623f1ca2dd2f\")>,\n",
       " <selenium.webdriver.remote.webelement.WebElement (session=\"ec88a99686528861ab8c8f39f4c01777\", element=\"394b9fda-726c-4519-8b61-64526d8bce47\")>,\n",
       " <selenium.webdriver.remote.webelement.WebElement (session=\"ec88a99686528861ab8c8f39f4c01777\", element=\"3f6a75bc-d405-4b27-a9bf-ac6aa464f12c\")>,\n",
       " <selenium.webdriver.remote.webelement.WebElement (session=\"ec88a99686528861ab8c8f39f4c01777\", element=\"45738287-1005-40c8-b487-fe8fde51765a\")>,\n",
       " <selenium.webdriver.remote.webelement.WebElement (session=\"ec88a99686528861ab8c8f39f4c01777\", element=\"b7c0edae-1c28-4b8d-ad0b-ba83e8c46a5d\")>,\n",
       " <selenium.webdriver.remote.webelement.WebElement (session=\"ec88a99686528861ab8c8f39f4c01777\", element=\"b3e75089-8365-439e-8b70-64f074764dbf\")>,\n",
       " <selenium.webdriver.remote.webelement.WebElement (session=\"ec88a99686528861ab8c8f39f4c01777\", element=\"50fda9a8-2662-46e2-80d3-cfe543e43f0f\")>,\n",
       " <selenium.webdriver.remote.webelement.WebElement (session=\"ec88a99686528861ab8c8f39f4c01777\", element=\"c017b521-53cc-4f41-9c61-5dcced814d61\")>,\n",
       " <selenium.webdriver.remote.webelement.WebElement (session=\"ec88a99686528861ab8c8f39f4c01777\", element=\"90828c82-3bdf-4d8c-90f3-2c96ac3ddd74\")>,\n",
       " <selenium.webdriver.remote.webelement.WebElement (session=\"ec88a99686528861ab8c8f39f4c01777\", element=\"4c04a3c0-9a14-409a-ad5a-4ba2b82b41c4\")>,\n",
       " <selenium.webdriver.remote.webelement.WebElement (session=\"ec88a99686528861ab8c8f39f4c01777\", element=\"cf83169c-960c-48e1-92d6-74cfbdb680f7\")>,\n",
       " <selenium.webdriver.remote.webelement.WebElement (session=\"ec88a99686528861ab8c8f39f4c01777\", element=\"0f4dc884-65d6-468c-a557-f43a295e29db\")>,\n",
       " <selenium.webdriver.remote.webelement.WebElement (session=\"ec88a99686528861ab8c8f39f4c01777\", element=\"22d770e2-795d-4478-a2b5-a3a760104cd3\")>,\n",
       " <selenium.webdriver.remote.webelement.WebElement (session=\"ec88a99686528861ab8c8f39f4c01777\", element=\"41a455f1-7d77-4397-a145-ac1888b155aa\")>,\n",
       " <selenium.webdriver.remote.webelement.WebElement (session=\"ec88a99686528861ab8c8f39f4c01777\", element=\"497eb762-1001-452c-b10b-3c78a2e6280d\")>,\n",
       " <selenium.webdriver.remote.webelement.WebElement (session=\"ec88a99686528861ab8c8f39f4c01777\", element=\"37e1d995-e396-48dc-807d-aa3740280189\")>,\n",
       " <selenium.webdriver.remote.webelement.WebElement (session=\"ec88a99686528861ab8c8f39f4c01777\", element=\"9fbdbab7-6a62-4ba6-8095-901381fc26db\")>,\n",
       " <selenium.webdriver.remote.webelement.WebElement (session=\"ec88a99686528861ab8c8f39f4c01777\", element=\"9484372e-ed77-434e-b392-806cf826e4cd\")>,\n",
       " <selenium.webdriver.remote.webelement.WebElement (session=\"ec88a99686528861ab8c8f39f4c01777\", element=\"27436aaf-f839-4d9e-b48e-719f905a9427\")>,\n",
       " <selenium.webdriver.remote.webelement.WebElement (session=\"ec88a99686528861ab8c8f39f4c01777\", element=\"04e01ff4-47e4-4fa3-9015-6122b6d19946\")>,\n",
       " <selenium.webdriver.remote.webelement.WebElement (session=\"ec88a99686528861ab8c8f39f4c01777\", element=\"cb1a1284-6d7e-4f15-8093-a80bee73b5fc\")>,\n",
       " <selenium.webdriver.remote.webelement.WebElement (session=\"ec88a99686528861ab8c8f39f4c01777\", element=\"0c28eb07-e8e3-4906-8289-386474b08255\")>,\n",
       " <selenium.webdriver.remote.webelement.WebElement (session=\"ec88a99686528861ab8c8f39f4c01777\", element=\"b248ff15-bf2f-42e6-8c93-73dae08542cf\")>,\n",
       " <selenium.webdriver.remote.webelement.WebElement (session=\"ec88a99686528861ab8c8f39f4c01777\", element=\"35458b1f-4d0b-4f6c-a584-661607469981\")>,\n",
       " <selenium.webdriver.remote.webelement.WebElement (session=\"ec88a99686528861ab8c8f39f4c01777\", element=\"50d9fdc7-3c4f-4347-9f05-c85f1eeedb6e\")>,\n",
       " <selenium.webdriver.remote.webelement.WebElement (session=\"ec88a99686528861ab8c8f39f4c01777\", element=\"348dd5e2-a385-4c49-aece-8ced85eb00b0\")>,\n",
       " <selenium.webdriver.remote.webelement.WebElement (session=\"ec88a99686528861ab8c8f39f4c01777\", element=\"b963294f-0cd9-400d-b1e9-002145333dc6\")>,\n",
       " <selenium.webdriver.remote.webelement.WebElement (session=\"ec88a99686528861ab8c8f39f4c01777\", element=\"2f2bcf48-5d85-423e-8bb9-f6f08fe11d45\")>,\n",
       " <selenium.webdriver.remote.webelement.WebElement (session=\"ec88a99686528861ab8c8f39f4c01777\", element=\"b8bef468-a56b-4c0b-91a9-cea4420b37ba\")>,\n",
       " <selenium.webdriver.remote.webelement.WebElement (session=\"ec88a99686528861ab8c8f39f4c01777\", element=\"e4107897-d622-4944-b36f-39210741549d\")>,\n",
       " <selenium.webdriver.remote.webelement.WebElement (session=\"ec88a99686528861ab8c8f39f4c01777\", element=\"c2784298-965b-432f-9940-07693a97ce3f\")>,\n",
       " <selenium.webdriver.remote.webelement.WebElement (session=\"ec88a99686528861ab8c8f39f4c01777\", element=\"0361ae2a-91c4-48f5-937a-76cd15e1ac24\")>,\n",
       " <selenium.webdriver.remote.webelement.WebElement (session=\"ec88a99686528861ab8c8f39f4c01777\", element=\"73b1fe11-b157-461c-ba27-c81c273ec6e6\")>,\n",
       " <selenium.webdriver.remote.webelement.WebElement (session=\"ec88a99686528861ab8c8f39f4c01777\", element=\"6ef4f851-4353-454d-a939-3b324afdc497\")>,\n",
       " <selenium.webdriver.remote.webelement.WebElement (session=\"ec88a99686528861ab8c8f39f4c01777\", element=\"bb358de2-b6f0-482b-8509-500872914df8\")>,\n",
       " <selenium.webdriver.remote.webelement.WebElement (session=\"ec88a99686528861ab8c8f39f4c01777\", element=\"bf4fb980-a643-45be-82de-56d0564ca275\")>,\n",
       " <selenium.webdriver.remote.webelement.WebElement (session=\"ec88a99686528861ab8c8f39f4c01777\", element=\"eb88e299-d534-411c-914e-c6058340c110\")>,\n",
       " <selenium.webdriver.remote.webelement.WebElement (session=\"ec88a99686528861ab8c8f39f4c01777\", element=\"47af9f4f-a0ae-44f1-8ca5-bab371a3f273\")>,\n",
       " <selenium.webdriver.remote.webelement.WebElement (session=\"ec88a99686528861ab8c8f39f4c01777\", element=\"55713969-2e0f-47d7-bd5b-56e4de68d914\")>,\n",
       " <selenium.webdriver.remote.webelement.WebElement (session=\"ec88a99686528861ab8c8f39f4c01777\", element=\"09edb683-d9d6-4203-8856-7b58a48d98d0\")>,\n",
       " <selenium.webdriver.remote.webelement.WebElement (session=\"ec88a99686528861ab8c8f39f4c01777\", element=\"b5e09591-6306-4a29-9e5c-5c8aa2863692\")>,\n",
       " <selenium.webdriver.remote.webelement.WebElement (session=\"ec88a99686528861ab8c8f39f4c01777\", element=\"43129206-eca9-4105-9a03-fd008a19ba44\")>,\n",
       " <selenium.webdriver.remote.webelement.WebElement (session=\"ec88a99686528861ab8c8f39f4c01777\", element=\"ae0e91f3-3bfd-4eb8-b863-e24d0b32a407\")>,\n",
       " <selenium.webdriver.remote.webelement.WebElement (session=\"ec88a99686528861ab8c8f39f4c01777\", element=\"201ae00b-2d23-43b4-a283-3b48cce5ae55\")>,\n",
       " <selenium.webdriver.remote.webelement.WebElement (session=\"ec88a99686528861ab8c8f39f4c01777\", element=\"8b4610ff-256f-4655-9869-06f86b6f340e\")>,\n",
       " <selenium.webdriver.remote.webelement.WebElement (session=\"ec88a99686528861ab8c8f39f4c01777\", element=\"10a22a46-62e6-45e9-8dbd-d21c5c96e548\")>,\n",
       " <selenium.webdriver.remote.webelement.WebElement (session=\"ec88a99686528861ab8c8f39f4c01777\", element=\"d0c6174c-4329-485c-872a-c13120397cd6\")>,\n",
       " <selenium.webdriver.remote.webelement.WebElement (session=\"ec88a99686528861ab8c8f39f4c01777\", element=\"ea051af6-a3ff-40f0-85d4-e8c5111bdd2e\")>,\n",
       " <selenium.webdriver.remote.webelement.WebElement (session=\"ec88a99686528861ab8c8f39f4c01777\", element=\"54c83ccf-ce78-4dcd-8457-f99d9f48dc29\")>,\n",
       " <selenium.webdriver.remote.webelement.WebElement (session=\"ec88a99686528861ab8c8f39f4c01777\", element=\"1d0d5806-ee1c-4191-9a6f-3b748ebb3325\")>,\n",
       " <selenium.webdriver.remote.webelement.WebElement (session=\"ec88a99686528861ab8c8f39f4c01777\", element=\"4b0f4d46-bad1-48b7-ad91-a6df57c4dfbc\")>,\n",
       " <selenium.webdriver.remote.webelement.WebElement (session=\"ec88a99686528861ab8c8f39f4c01777\", element=\"c13b5182-d5ee-4640-9372-21472cc6f95d\")>,\n",
       " <selenium.webdriver.remote.webelement.WebElement (session=\"ec88a99686528861ab8c8f39f4c01777\", element=\"c8d15337-49c5-4210-9682-e957f82ef298\")>,\n",
       " <selenium.webdriver.remote.webelement.WebElement (session=\"ec88a99686528861ab8c8f39f4c01777\", element=\"09584d6e-6ef1-4939-9881-9db9767cbe63\")>,\n",
       " <selenium.webdriver.remote.webelement.WebElement (session=\"ec88a99686528861ab8c8f39f4c01777\", element=\"0cef751e-8da5-4d11-a33f-ca742ca6cdf7\")>,\n",
       " <selenium.webdriver.remote.webelement.WebElement (session=\"ec88a99686528861ab8c8f39f4c01777\", element=\"9a3b7fe1-c9f2-4e90-ae0f-a1e2befc8446\")>,\n",
       " <selenium.webdriver.remote.webelement.WebElement (session=\"ec88a99686528861ab8c8f39f4c01777\", element=\"48f00b64-402c-434f-99b4-e3975300eb13\")>]"
      ]
     },
     "execution_count": 64,
     "metadata": {},
     "output_type": "execute_result"
    }
   ],
   "source": [
    "url='https://www.jd.id/category/jual-laptop-875061490.html?page=1'\n",
    "driver.get(url)\n",
    "\n",
    "#baris ke-5 dan 6 di bawah ini adalah perintah untuk mengumpulkan semua produk laptop yang ada di halaman URL pada baris ke-1\n",
    "links= driver.find_elements_by_class_name('sku-info')\n",
    "links"
   ]
  },
  {
   "cell_type": "code",
   "execution_count": 3,
   "id": "db6eb5f0",
   "metadata": {},
   "outputs": [
    {
     "data": {
      "text/plain": [
       "'Rp 6,699,000\\nRp 7,299,000 -8%\\nXIAOMI Redmi Book 15 (8GB+256GB) Layar 15.6 inch FHD Intel® Core™ i3-1115G4 Baterai Besar 46Whr Windows 10 - Charcoal Gray\\n(885)\\nJD.id\\nCombo Deals'"
      ]
     },
     "execution_count": 3,
     "metadata": {},
     "output_type": "execute_result"
    }
   ],
   "source": [
    "#tes hasil untuk produk pertama (links[0]) pada di halaman URL yang telah disebutkan sebelumnya\n",
    "#informasi yg didapatkan sebelumnya masih dalam format web element, kita mengambil informasi produk dengan menambahkan .text\n",
    "links[0].text"
   ]
  },
  {
   "cell_type": "code",
   "execution_count": 4,
   "id": "56d0a237",
   "metadata": {},
   "outputs": [
    {
     "data": {
      "text/plain": [
       "60"
      ]
     },
     "execution_count": 4,
     "metadata": {},
     "output_type": "execute_result"
    }
   ],
   "source": [
    "#melihat ada berapa produk di URL yang telah disebutkan. \n",
    "#Diperoleh 60, sesuai dengan jumlah produk pada laman URL jika kita buka. Berarti sudah tepat.\n",
    "len(links)"
   ]
  },
  {
   "cell_type": "markdown",
   "id": "aba1c15d",
   "metadata": {},
   "source": [
    "# Mendapatkan link dari setiap produk\n",
    "\n",
    "Sekarang kita ingin mengumpulkan semua link dari setiap produk. \n",
    "Karena informasi yang ingin kita ambil bukan dari laman tersebut, melainkan dari link masing-masing produk.\n",
    "Ketika melakukan inspect, diperoleh bahwa link untuk masuk ke tiap produk berada pada tag 'href'. Sehingga dilakukan perintah sebagai berikut.\n",
    "ini adalah contoh mengambil link untuk produk pertama."
   ]
  },
  {
   "cell_type": "code",
   "execution_count": 5,
   "id": "884463f3",
   "metadata": {
    "scrolled": true
   },
   "outputs": [
    {
     "data": {
      "text/plain": [
       "'https://www.jd.id/product/xiaomi-redmi-book-15-8gb-256gb-layar-15-6-inch-fhd-intel-core-i3-1115g4-baterai-besar-46whr-windows-10-charcoal-gray_637603704/637604105.html'"
      ]
     },
     "execution_count": 5,
     "metadata": {},
     "output_type": "execute_result"
    }
   ],
   "source": [
    "pp=links[0]\n",
    "pp.get_property('href')"
   ]
  },
  {
   "cell_type": "markdown",
   "id": "4a52d5cb",
   "metadata": {},
   "source": [
    "Kita tidak ingin hanya 1 produk. Kita ingin untuk semua produk di dalam laman itu. Nah, ini bisa dilakukan dengan for looping."
   ]
  },
  {
   "cell_type": "code",
   "execution_count": 65,
   "id": "2bb0e25b",
   "metadata": {},
   "outputs": [],
   "source": [
    "listofLinks=[]\n",
    "for link in links:\n",
    "        l=link.get_property('href')\n",
    "        listofLinks.append(l)"
   ]
  },
  {
   "cell_type": "markdown",
   "id": "cf1a2f9c",
   "metadata": {},
   "source": [
    "Kita telah mendapatkan 60 link. Sesuai dengan jumlah produk pada laman URL jika kita buka. Berarti sudah tepat."
   ]
  },
  {
   "cell_type": "code",
   "execution_count": 66,
   "id": "48bf9893",
   "metadata": {},
   "outputs": [
    {
     "data": {
      "text/plain": [
       "60"
      ]
     },
     "execution_count": 66,
     "metadata": {},
     "output_type": "execute_result"
    }
   ],
   "source": [
    "len(listofLinks)"
   ]
  },
  {
   "cell_type": "markdown",
   "id": "4195e720",
   "metadata": {},
   "source": [
    "Produk-produk tersebut tidak hanya pada 1 halaman saja, bukan? ada next page dan next page. Jika kita perhatikan di bagian search bar chrome/mozilla kita, ketika kita klik next page akan ada elemen yang bertambah. pada URL yang kita pakai contohnya, 'https://www.jd.id/category/jual-laptop-875061490.html?page=1'. Ketika kita klik next page, bagian akhir dari URL itu (... ?page=1) akan berubah menjadi 2, 3, dst. Dengan demikian, kita bisa melakukan looping dengan bantuan informasi itu.\n",
    "\n",
    "\n",
    "Sebenarnya ada 125 halaman untuk produk laptop pada website ini. Namun, karena keterbatasan spek komputer, saya hanya melakukan web sraping untuk halaman 1 dan 2 saja, sehingga saya mendefinisikan range(1,3)."
   ]
  },
  {
   "cell_type": "code",
   "execution_count": 60,
   "id": "ec443846",
   "metadata": {},
   "outputs": [],
   "source": [
    "listofweb=[]\n",
    "for url in range(1,3):\n",
    "    u='https://www.jd.id/category/jual-laptop-875061490.html?page=' + str(url)\n",
    "    driver.get(u)\n",
    "    listofweb.append(u)"
   ]
  },
  {
   "cell_type": "markdown",
   "id": "cfef9ae2",
   "metadata": {},
   "source": [
    "Kita telah mendapatkan 2 halaman yaitu page=1 dan page=2. Sesuai dengan range yang kita telah definisikan."
   ]
  },
  {
   "cell_type": "code",
   "execution_count": 61,
   "id": "2791aa7e",
   "metadata": {},
   "outputs": [
    {
     "data": {
      "text/plain": [
       "['https://www.jd.id/category/jual-laptop-875061490.html?page=1',\n",
       " 'https://www.jd.id/category/jual-laptop-875061490.html?page=2']"
      ]
     },
     "execution_count": 61,
     "metadata": {},
     "output_type": "execute_result"
    }
   ],
   "source": [
    "listofweb"
   ]
  },
  {
   "cell_type": "markdown",
   "id": "1c7e9aa0",
   "metadata": {},
   "source": [
    "listofweb dan listofLinks yang kita dapatkan, kemudian kita satukan ke dalam satu perintah looping. Tujuannya agar kita memperoleh semua link produk di kedua halaman tersebut. \n",
    "Jika sebelumnya ada 60 produk dalam 1 halaman, maka untuk 2 halaman seharusnya kita memperoleh 120 link."
   ]
  },
  {
   "cell_type": "code",
   "execution_count": 54,
   "id": "512be234",
   "metadata": {},
   "outputs": [],
   "source": [
    "listofLinks=[]\n",
    "for url in range(1,3):\n",
    "    u='https://www.jd.id/category/jual-laptop-875061490.html?page=' + str(url)\n",
    "    driver.get(u)\n",
    "    links= driver.find_elements_by_class_name('sku-info')\n",
    "    for link in links:\n",
    "        l=link.get_property('href')\n",
    "        listofLinks.append(l)"
   ]
  },
  {
   "cell_type": "code",
   "execution_count": 40,
   "id": "dab2a2cc",
   "metadata": {},
   "outputs": [
    {
     "data": {
      "text/plain": [
       "['https://www.jd.id/product/xiaomi-redmi-book-15-8gb-256gb-layar-15-6-inch-fhd-intel-core-i3-1115g4-baterai-besar-46whr-windows-10-charcoal-gray_637603704/637604105.html',\n",
       " 'https://www.jd.id/product/infinix-inbook-x2-intel-core-i3-1005g1-4gb-256gb-grey_658309695/658309696.html',\n",
       " 'https://www.jd.id/product/acer-aspire-3-slim-a314-35-c80w-nx-a7ssn-00c-14-hd-n5100-4gb-256gb-ssd-intel-uhd-graphic-win-11-home-free-ohs-silver_650861310/650861311.html',\n",
       " 'https://www.jd.id/product/infinix-laptop-x1-core-i3-8gb-256gb-grey_633780213/633780214.html',\n",
       " 'https://www.jd.id/product/lenovo-ideapad-slim-1-11igl05-05id-11-6-hd-tn-intel-celeron-n4020-4gb-256gb-ssd-intel-uhd-graphics-win10-home-platinum-grey_644351023/644350154.html',\n",
       " 'https://www.jd.id/product/hp-15s-fq2642tu-15-6-fhd-intel-core-i5-1135g7-8gb-512gb-ssd-intel-xe-graphics-win10-home-office-2019-silver_643504497/643503743.html',\n",
       " 'https://www.jd.id/product/lenovo-ideapad-slim-3i-14igl05-4mid-14-fhd-tn-intel-celeron-n4020-4gb-512gb-ssd-intel-uhd-graphics-win10-home-office-2019-business-black_633985949/633986725.html',\n",
       " 'https://www.jd.id/product/acer-aspire-3-slim-a315-35-c0uj-nx-a6lsn-005-15-6-fhd-n5100-4gb-256gb-ssd-intel-uhd-graphic-win-11-home-free-ohs-silver_650853932/650853933.html',\n",
       " 'https://www.jd.id/product/acer-aspire-5-slim-a514-54-313v-nx-a23sn-00c-14-fhd-i3-1115g4-4gb-256gb-ssd-intel-uhd-graphic-win-11-home-free-ohs-no-bag-silver_657829622/657829623.html',\n",
       " 'https://www.jd.id/product/acer-aspire-3-slim-a314-35-p69e-nx-a7ssn-004-14-fhd-n6000-4gb-256gb-ssd-intel-uhdgraphic-win-10-home-free-ohs-silver_650864247/650863637.html',\n",
       " 'https://www.jd.id/product/samsung-chromebook-4-4gb-32gb-11-6-intel-celeron-chrome-os-platinum-titan_654851131/654850969.html',\n",
       " 'https://www.jd.id/product/itel-laptop-able1-14-inch-lpddr4-4gb-1tb-intel-celeron-n3350-win-10-home-komputer-notebook-silk-gray_642990738/642990739.html',\n",
       " 'https://www.jd.id/product/lenovo-ideapad-slim-3i-14igl05-4nid-14-fhd-tn-intel-celeron-n4020-4gb-512gb-ssd-intel-uhd-graphics-win10-home-office-2019-platinum-grey_633986778/633987008.html',\n",
       " 'https://www.jd.id/product/acer-aspire-vero-av15-51-547x-nx-aycsn-002-15-6-fhd-i5-1155g7-8gb-512gb-ssd-intel-iris-xe-graphic-win-11-home-free-ohs-free-zero-waste-kit-modem-orbit-grey_651536541/651536542.html',\n",
       " 'https://www.jd.id/product/infinix-inbook-x2-intel-core-i7-1065g7-14-fhd-display-8gb-512gb-ssd-intel-iris-plus-up-to-64eu-red_658310979/658310980.html',\n",
       " 'https://www.jd.id/product/lenovo-ideapad-slim-3i-14iml05-pbid-14-hd-tn-intel-core-i3-10110u-4gb-256gb-ssd-intel-uhd-graphics-win11-home-office-2021-platinum-grey_655326269/655326270.html',\n",
       " 'https://www.jd.id/product/infinix-laptop-x1-intel-core-i3-1005g1-14-fhd-display-8gb-256gb-ssd-intel-uhd-graphics-win10home-green_654735330/654735331.html',\n",
       " 'https://www.jd.id/product/hp-pavilion-14-dv0502tx-14-fhd-intel-core-i5-1135g7-8gb-512gb-ssd-nvidia-geforce-mx450-2gb-win10-home-ohs-white_625125864/625125865.html',\n",
       " 'https://www.jd.id/product/asus-vivobook-m415dao-vips352-14-fhd-amd-ryzen3-3250u-8gb-512gb-ssd-amd-radeon-graphics-win-10-office-slate-grey_640784981/640785817.html',\n",
       " 'https://www.jd.id/product/samsung-chromebook-4-4-32gb-11-6in-garansi-resmi-sein-silver_646101824/646101825.html',\n",
       " 'https://www.jd.id/product/infinix-laptop-x1-pro-core-i7-16gb-512gb-grey_633779660/633779661.html',\n",
       " 'https://www.jd.id/product/lenovo-ideapad-slim-3i-14iml05-k2id-14-fhd-ips-intel-core-i5-10210u-8gb-512gb-ssd-nvidia-geforce-mx330-2gb-win11-home-office-2021-platinum-grey_647672477/647672478.html',\n",
       " 'https://www.jd.id/product/lenovo-ideapad-slim-3-14alc6-g5id-14-fhd-amd-ryzen-3-5300u-8gb-512gb-ssd-radeon-graphics-win10-home-office-2019-arctic-grey_637275981/637276657.html',\n",
       " 'https://www.jd.id/product/infinix-laptop-x1-core-i5-8gb-512gb_633780223/633779555.html',\n",
       " 'https://www.jd.id/product/huawei-matebook-d14-i3-laptop-intel-i3-8gb-256gb-14-inch-huawei-fullview-display-huawei-share-fingerprint-login_642618841/642619084.html',\n",
       " 'https://www.jd.id/product/laptop-murah-samsung-chromebook-4-celeron-32gb-4gb-11-6-hd-resmi-sein_643145160/643146124.html',\n",
       " 'https://www.jd.id/product/laptop-murah-samsung-chromebook-4-laptop-11-6-hd-32gb-4gb-garansi-sein_643149831/643150812.html',\n",
       " 'https://www.jd.id/product/jumper-ezbook-x3-air-8gb-256gb-ssd-quad-core-intel-celeron-13-3-inch-windows-10-brown_654367198/654368159.html',\n",
       " 'https://www.jd.id/product/lenovo-ideapad-slim-3i-14iml05-paid-14-hd-tn-intel-core-i3-10110u-4gb-256gb-ssd-intel-uhd-graphics-win11-home-office-2021-abyss-blue_655722151/655722152.html',\n",
       " 'https://www.jd.id/product/lenovo-ideapad-slim-3-14ada05-uqid-14-hd-tn-amd-3020e-4gb-256gb-ssd-radeon-graphics-win11-home-office-2021-platinum-grey_655990910/655991526.html',\n",
       " 'https://www.jd.id/product/asus-vivobook-a509fa-fhd454-15-6-fhd-intel-celeron-4305u-4gb-512gb-ssd-intel-uhd-graphics-win-10-office-slate-grey_655906001/655907002.html',\n",
       " 'https://www.jd.id/product/hp-14s-dq0508tu-14-hd-intel-celeron-n4120-4-gb-256-ssd-intel-uhd-graphics-win11-home-office-2019-silver-no-bag_659512043/659511219.html',\n",
       " 'https://www.jd.id/product/lenovo-v14-ada-gcid-14-hd-amd-athlon-gold-3150u-4gb-512gb-ssd-radeon-graphics-win10-home-office-2019-iron-grey_618281157/618280500.html',\n",
       " 'https://www.jd.id/product/axioo-slimbook-11-s1-11-hd-intel-celeron-n4020-6gb-256gb-ssd-intel-uhd-graphics-win10-pro-grey_654569683/654569684.html',\n",
       " 'https://www.jd.id/product/asus-vivobook-l510ma-wb04-15-fhd-n4020-4gb-128gb-slot-ssd-intel-uhd-graphics-win-10-black_643708900/643709025.html',\n",
       " 'https://www.jd.id/product/axioo-slimbook-13-s1-13-3-qhd-2-5k-intel-celeron-n4020-6gb-256gb-ssd-intel-uhd-graphics-win10-pro-platinum-grey_654002556/654001624.html',\n",
       " 'https://www.jd.id/product/hp-14-ec0013au-14-fhd-amd-ryzen-5-5500u-16gb-512gb-ssd-amd-radeon-graphics-win10-home-office-2019-silver-no-bag_645125424/645124452.html',\n",
       " 'https://www.jd.id/product/asus-vivobook-a416jpo-vips551-14-fhd-intel-core-i5-1035g1-8gb-512gb-ssd-nvidia-geforce-mx330-win-10-office-transparent-silver_642593546/642593547.html',\n",
       " 'https://www.jd.id/product/acer-aspire-3-slim-a314-22-a1m5-nx-hvvsn-00x-14-hd-a3020e-4gb-256gb-ssd-amd-radeon-graphic-win-11-home-free-ohs-black_650849060/650849061.html',\n",
       " 'https://www.jd.id/product/lenovo-ideapad-slim-3i-14igl05-49id-14-fhd-tn-intel-celeron-n4020-4gb-256gb-ssd-intel-uhd-graphics-win10-home-office-2019-black_632383803/632383804.html',\n",
       " 'https://www.jd.id/product/asus-vivobook-a416jao-vips354-14-fhd-intel-core-i3-1005g1-4gb-512gb-ssd-optane-intel-uhd-graphics-win-10-office-slate-grey_643847211/643847212.html',\n",
       " 'https://www.jd.id/product/asus-vivobook-x441mao-411-14-hd-intel-celeron-n4020-4gb-1tb-intel-uhd-graphics-win-10-black_657526323/657525499.html',\n",
       " 'https://www.jd.id/product/asus-vivobook-a516jao-vips353-15-6-fhd-intel-core-i3-1005g1-4gb-512gb-ssd-optane-intel-uhd-graphics-win-10-office-slate-grey_646581651/646581652.html',\n",
       " 'https://www.jd.id/product/msi-modern-14-b5m-069-14-fhd-ryzen-5-5500u-8gb-512gb-ssd-amd-radeon-graphic-win-11-home-carbon-gray_654243418/654243419.html',\n",
       " 'https://www.jd.id/product/asus-vivobook-a509fa-fhd453-15-6-fhd-intel-celeron-4305u-4gb-512gb-ssd-intel-uhd-graphics-win-10-office-transparent-silver_655905955/655906292.html',\n",
       " 'https://www.jd.id/product/asus-vivobook-x441mao-412-14-hd-intel-celeron-n4020-4gb-1tb-intel-uhd-graphics-win-10-silver-gradient_657522631/657522632.html',\n",
       " 'https://www.jd.id/product/asus-vivobook-m415dao-vips021-14-fhd-amd-athlon-3050u-4gb-256gb-ssd-amd-radeon-graphics-win-10-office-transparent-silver_657945843/657946822.html',\n",
       " 'https://www.jd.id/product/apple-macbook-pro-m1-chip-2020-myd82id-a-13-apple-m1-8-core-cpu-8gb-256gb-8-core-gpu-space-grey_624507730/624507731.html',\n",
       " 'https://www.jd.id/product/asus-vivobook-e410kao-hd422-14-hd-intel-celeron-n4500-4gb-512gb-ssd-intel-uhd-graphics-win-11-office-dreamy-white_657524709/657523863.html',\n",
       " 'https://www.jd.id/product/msi-modern-14-b11mou-881-14-fhd-i3-1115g4-8gb-256gb-ssd-intel-uhd-graphics-win-10-home-carbon-gray_654384474/654384475.html',\n",
       " 'https://www.jd.id/product/hp-14s-dk1524au-14-hd-amd-athlon-gold-3150u-4-gb-512-ssd-amd-radeon-graphics-win10-home-office-2019-silver_659514008/659514009.html',\n",
       " 'https://www.jd.id/product/asus-vivobook-e410kao-hd421-14-hd-intel-celeron-n4500-4gb-512gb-ssd-intel-uhd-graphics-win-11-office-peacock-blue_657945793/657946758.html',\n",
       " 'https://www.jd.id/product/ext-warranty-asus-vivobook-k513ea-oled323-15-6-fhd-intel-core-i3-1115g4-4gb-256gb-ssd-intel-uhd-graphics-win-10-office-hearty-gold_654293175/654294006.html',\n",
       " 'https://www.jd.id/product/ext-warranty-asus-vivobook-k513ea-oled321-15-6-fhd-intel-core-i3-1115g4-4gb-256gb-ssd-intel-uhd-graphics-win-10-office-indie-black_640338932/640338933.html',\n",
       " 'https://www.jd.id/product/jumper-ezbook-x3-8gb-256gb-ssd-quad-core-intel-celeron-13-3-inch-windows-10-iron-grey_654371715/654371716.html',\n",
       " 'https://www.jd.id/product/acer-aspire-5-slim-a514-54-52kh-nx-a27sn-006-14-fhd-i5-1135g7-8gb-512gb-ssd-intel-iris-xe-graphic-win-11-home-free-ohs-black_654495690/654495691.html',\n",
       " 'https://www.jd.id/product/asus-vivobook-e410kao-hd424-14-hd-intel-celeron-n4500-4gb-512gb-ssd-intel-uhd-graphics-win-11-office-rose-pink_657945818/657946789.html',\n",
       " 'https://www.jd.id/product/laptop11-6-inch-dapat-diputar-360-derajat-dual-touch-layar-sentuh-paduan-aluminium-intel-warna-emas_600714867/600715758.html',\n",
       " 'https://www.jd.id/product/ext-warranty-asus-vivobook-pro-k3400pa-oled552-14-oled-intel-core-i5-11300h-8gb-512gb-ssd-intel-iris-xe-win-11-office-quiet-blue_659171235/659172070.html',\n",
       " 'https://www.jd.id/product/asus-vivobook-e410kao-hd421-14-hd-celeron-n4500-4gb-512gb-ssd-uhd-graphics-windows-11-office-microsoft-mouse-1850-random_659598281/659597349.html',\n",
       " 'https://www.jd.id/product/acer-aspire-5-slim-a514-54-313v-14-fhd-i3-1115g4-4gb-256gb-ssd-uhd-graphic-windows-11-office-microsoft-mouse-1850-random_659598821/659598822.html',\n",
       " 'https://www.jd.id/product/macbook-air-2020-m1-chip-mgn63-mgn92-mgnd3-13inch-256gb-8gb-8-256gb-space-grey-gold-silver_624276224/624276225.html',\n",
       " 'https://www.jd.id/product/acer-swift-3-infinity-4-sf314-511-5495-nx-atqsn-008-14-fhd-i5-1135g7-16gb-512gb-ssd-intel-iris-xe-graphics-win-11-home-free-ohs-ocean-blue_650854489/650854490.html',\n",
       " 'https://www.jd.id/product/infinix-inbook-x1-core-i3-1005g1-8gb-256gb-ssd-14-fhd-ips_654436815/654436816.html',\n",
       " 'https://www.jd.id/product/apple-macbook-pro-m1-chip-2020-myd92id-a-13-apple-m1-8-core-cpu-8gb-512gb-8-core-gpu-space-grey_624507966/624508808.html',\n",
       " 'https://www.jd.id/product/lenovo-legion-5-pro-16ach6-35id-16-wqxga-ips-165hz-amd-ryzen-7-5800h-16gb-512gb-ssd-nvidia-geforce-rtx-3050-ti-4gb-win11-home-plus-storm-grey_655990545/655990546.html',\n",
       " 'https://www.jd.id/product/asus-vivobook-e410kao-vips654-14-fhd-intel-pentium-silver-n6000-8gb-512gb-ssd-intel-hd-graphics-win-10-office-rose-pink_653918793/653918794.html',\n",
       " 'https://www.jd.id/product/macbook-air-m1-chip-2020-256gb-8gb-mgn63-grey-garansi-resmi-apple-1-tahun_643236714/643236715.html',\n",
       " 'https://www.jd.id/product/lenovo-ideapad-s145-15igm-15-6-hd-intel-celeron-n4000-4gb-1000gb-intel-hd-graphics-black_615959021/615959022.html',\n",
       " 'https://www.jd.id/product/lenovo-legion-5-15ach6-3rid-15-6-fhd-ips-165hz-amd-ryzen-5-5600h-16gb-512gb-ssd-nvidia-geforce-rtx-3050-4gb-win10-home-office-2019-phantom-blue_637276779/637276780.html',\n",
       " 'https://www.jd.id/product/lenovo-winbook-100e-11-6-hd-tn-intel-celeron-n4020-4gb-64gb-emmc-intel-hd-graphics-win10-pro-black_629059984/629058989.html',\n",
       " 'https://www.jd.id/product/asus-vivobook-m415dao-vips351-14-fhd-amd-ryzen3-3250u-8gb-512gb-ssd-amd-radeon-graphics-win-10-office-transparent-silver_641714533/641714534.html',\n",
       " 'https://www.jd.id/product/acer-nitro-5-an515-57-71cv-nh-qensn-003-15-6-fhd-144hz-i7-11800h-16gb-512gb-ssd-geforce-rtx3050-4gb-win-11-home-free-ohs-black_654502363/654502364.html',\n",
       " 'https://www.jd.id/product/asus-vivobook-m513ua-oled753-15-6-fhd-amd-ryzen7-5700u-8gb-512gb-ssd-amd-radeon-graphics-win-10-office-hearty-gold_653749457/653749458.html',\n",
       " 'https://www.jd.id/product/lenovo-thinkbook-14-g2-itl-9nid-14-fhd-ips-intel-core-i3-1115g4-4gb-256gb-ssd-intel-uhd-graphics-win10-home-office-2019-mineral-grey_634470133/634470134.html',\n",
       " 'https://www.jd.id/product/lenovo-legion-5-15ach6-dyid-15-6-fhd-ips-165hz-amd-ryzen-5-5600h-16gb-512gb-ssd-nvidia-geforce-rtx-3050-4gb-win11-home-office-2021-phantom-blue_658780196/658780197.html',\n",
       " 'https://www.jd.id/product/apple-macbook-pro-m1-chip-2020-mydc2id-a-13-apple-m1-8-core-cpu-8gb-512gb-8-core-gpu-silver_624508863/624508864.html',\n",
       " 'https://www.jd.id/product/msi-gf63-10sc-688-15-6-fhd-i5-10500h-8gb-512gb-ssd-geforce-gtx1650-4gb-win-10-home-black_655648325/655647478.html',\n",
       " 'https://www.jd.id/product/apple-macbook-air-m1-chip-2020-mgne3id-a-13-apple-m1-8-core-cpu-8gb-512gb-8-core-gpu-gold_624502314/624501364.html',\n",
       " 'https://www.jd.id/product/msi-gf63-10uc-687-15-6-fhd-144hz-i5-10500h-8gb-512gb-ssd-geforce-rtx3050-4gb-win-10-home-black_654616544/654615571.html',\n",
       " 'https://www.jd.id/product/best-seller-laptop-bisnis-dan-desain-hp-14s-dq0508tu-intel-n4120-ram-8gb-ssd-256gb-intel-uhd-14-hd-ohs-w10_612961834/612961835.html',\n",
       " 'https://www.jd.id/product/lenovo-thinkbook-14-gen-2-14are-3xid-14-fhd-amd-ryzen-3-4300-4gb-256gb-ssd-radeon-graphics-win10-home-office-2019-mineral-grey_625639246/625639247.html',\n",
       " 'https://www.jd.id/product/lenovo-ideapad-flex-5i-14itl05-l9id-14-fhd-ips-touch-intel-core-i3-1115g4-8gb-512gb-ssd-intel-uhd-graphics-win10-home-office-2019-abyss-blue_632647284/632647285.html',\n",
       " 'https://www.jd.id/product/laptop-lenovo-thinkpad-x250-core-i5-gen-5th-hdd-500gb-ram-4gb-win10-ram4-hdd320_639706369/639706370.html',\n",
       " 'https://www.jd.id/product/warranty-asus-vivobook-l510ma-wb04-15-6-fhd-celeron-cpu-n4020-4gb-ssd-256gb-128gb-emmc-intel-uhd-graphics-win-10-back_646308745/646308746.html',\n",
       " 'https://www.jd.id/product/laptop-murahh-dell-latitude-e6320-6-with-intel-i5-and-4gb-ram-hdd-320_639711657/639711658.html',\n",
       " 'https://www.jd.id/product/macbook-pro-m1-2020-myd82-myda2-13inch-m1-8-core-cpu-gpu-8gb-256gb-space-grey-silver_624280416/624280417.html',\n",
       " 'https://www.jd.id/product/hp-11-chromebook-n4020-4gb-32gb-chrome-os-11-6_643249608/643250341.html',\n",
       " 'https://www.jd.id/product/asus-vivobook-e410kao-vips621-14-fhd-celeron-n6000-4gb-256gb-ssd-hd-graphics-windows-11-office-microsoft-mouse-1850-random_659598505/659598506.html',\n",
       " 'https://www.jd.id/product/valentine-huawei-matebook-14-laptop-intel-i5-8gb-512gb-ssd-11th-gen-2k-fullview-display-intel-iris-xe_654655450/654656280.html',\n",
       " 'https://www.jd.id/product/lenovo-v14-g2-alc-97id-14-hd-tn-amd-ryzen-5-5500u-8gb-256gb-ssd-radeon-graphics-win10-home-office-2019-iron-grey_657931413/657932385.html',\n",
       " 'https://www.jd.id/product/hp-pavilion-14-dv0515tx-14-fhd-intel-core-i5-1135g7-16gb-512gb-ssd-nvidia-geoforce-mx-450-2gb-win10-home-office-2019-gold_643348864/643348865.html',\n",
       " 'https://www.jd.id/product/asus-vivobook-a516jao-vips355-15-6-fhd-i3-1005g1-4gb-512gb-ssd-uhd-graphics-windows-11-office-microsoft-mouse-1850-random_659597909/659597910.html',\n",
       " 'https://www.jd.id/product/hp-14s-fq1004au-14-fhd-amd-ryzen-5-5500u-8gb-512gb-ssd-radeon-graphics-win10-home-office-2019-snowflake-white_643457445/643457446.html',\n",
       " 'https://www.jd.id/product/jumper-ezbook-x3-air-8gb-512gb-ssd-quad-core-intel-celeron-13-3-inch-windows-10-brown_654367249/654368201.html',\n",
       " 'https://www.jd.id/product/windows-10-laptop-14-inch-intel-celeron-8gb-ram-256gb-ssd-quad-core-body-logam-untuk-siswa-warna-pink_652827093/652827094.html',\n",
       " 'https://www.jd.id/product/xiaomi-redmibook-15-intel-i3-1115g4-ram-8gb-ssd-256gb-w10_651304389/651304390.html',\n",
       " 'https://www.jd.id/product/laptop-10-inci-dengan-keyboard-wifi-netbook-warna-mentah_600713866/600713867.html',\n",
       " 'https://www.jd.id/product/hp-pavilion-14-dv0513tx-14-fhd-intel-core-i5-1135g7-16gb-512gb-ssd-nvidia-geoforce-mx-450-2gb-win10-home-office-2019-silver_643348857/643348858.html',\n",
       " 'https://www.jd.id/product/asus-tuf-fx506hcb-i735b8t-o11-15-6-fhd-intel-core-i7-11600h-16gb-512gb-ssd-nvidia-geforce-rtx3050-win-11-office-graphite-black_657521834/657521835.html',\n",
       " 'https://www.jd.id/product/asus-vivobook-x441mao-414-14-hd-intel-celeron-n4020-4gb-1tb-intel-uhd-graphics-win-10-peacock-blue_657522656/657521747.html',\n",
       " 'https://www.jd.id/product/lenovo-ideapad-gaming-3-15ach6-36id-15-6-fhd-ips-120hz-amd-ryzen-5-5600h-8gb-512gb-ssd-nvidia-geforce-gtx-1650-4gb-win11-home-office-2021-shadow-black_659159440/659159441.html',\n",
       " 'https://www.jd.id/product/lenovo-ideapad-slim-3i-14iml05-ljid-14-fhd-ips-intel-core-i3-10110u-4gb-256gb-ssd-intel-uhd-graphics-win11-home-office-2021-platinum-grey_657974776/657974777.html',\n",
       " 'https://www.jd.id/product/lenovo-yoga-slim-7-carbon-14acn6-22id-14-2-8k-oled-amd-ryzen-7-5800u-16gb-1tb-ssd-nvidia-geforce-mx450-2gb-win11-home-office-2021-cloud-grey_657180486/657179738.html',\n",
       " 'https://www.jd.id/product/lenovo-ideapad-slim-3i-15iml05-dqid-15-6-hd-tn-intel-core-i3-10110u-4gb-256gb-ssd-intel-uhd-graphics-win11-home-office-2021-platinum-grey_657974715/657974716.html',\n",
       " 'https://www.jd.id/product/axioo-slimbook-13-s1-13-3-qhd-2-5k-intel-celeron-n4020-6gb-256gb-ssd-intel-uhd-graphics-win10-pro-titanium-brown_655309508/655309509.html',\n",
       " 'https://www.jd.id/product/lenovo-legion-5-15ach6h-f1id-15-6-fhd-ips-165hz-amd-ryzen-7-5800h-16gb-512gb-ssd-nvidia-geforce-rtx-3060-6gb-win10-home-office-2019-stingray_655989785/655990244.html',\n",
       " 'https://www.jd.id/product/lenovo-thinkpad-t420-i5-4gb-128-ssd_632492128/632491622.html',\n",
       " 'https://www.jd.id/product/ext-warranty-asus-vivobook-m415dao-vips151-14-fhd-amd-athlon-3150u-4gb-512gb-ssd-amd-radeon-graphics-win-10-office-transparent-silver_659161551/659162222.html',\n",
       " 'https://www.jd.id/product/asus-vivobook-a416jpo-vips351-14-fhd-intel-core-i3-1005g1-4gb-512gb-ssd-nvidia-geforce-mx330-win-10-office-transparent-silver_643617941/643617942.html',\n",
       " 'https://www.jd.id/product/asus-vivobook-a516jao-vips521-15-6-fhd-intel-core-i5-1035g1-4gb-256gb-ssd-intel-uhd-graphics-win-10-office-slate-grey_655906394/655906395.html',\n",
       " 'https://www.jd.id/product/asus-vivobook-e410kao-vips655-14-fhd-intel-pentium-silver-n6000-8gb-512gb-ssd-intel-hd-graphics-win-10-office-star-black_653917692/653917693.html',\n",
       " 'https://www.jd.id/product/hp-14s-cf2516tu-intel-n4020u-ram4gb-ssd256gb-intel-uhd-windows-11-ohs-2019-original_652621195/652621196.html',\n",
       " 'https://www.jd.id/product/asus-vivobook-x441mao-413-14-hd-intel-celeron-n4020-4gb-1tb-intel-uhd-graphics-win-10-rose-gold_655010789/655011259.html',\n",
       " 'https://www.jd.id/product/asus-tuf-fx516pc-i735b6t-o-15-6-fhd-intel-core-i7-11370h-8gb-512gb-ssd-nvidia-geforce-rtx3050-win-10-office-eclipse-gray_643371478/643372217.html',\n",
       " 'https://www.jd.id/product/hp-victus-16-e0088ax-16-1-fhd-amd-ryzen5-5600h-16-gb-512gb-ssd-nvidia-geforce-rtx-3060-win10-home-office-2019-silver_649355867/649356839.html',\n",
       " 'https://www.jd.id/product/asus-vivobook-a516jpo-vips351-15-6-fhd-intel-core-i3-1005g1-4gb-512gb-ssd-optane-nvidia-geforce-mx330-win-10-office-slate-grey_643845447/643845448.html',\n",
       " 'https://www.jd.id/product/asus-flip-c214ma-chromebook-2in1-touch-n4020-4gb-32gb-11-6-gry-no-bundling_659096764/659096765.html',\n",
       " 'https://www.jd.id/product/axioo-slimbook-14-r5-14-fhd-amd-ryzen-5-3500u-8gb-256gb-ssd-radeon-vega-8-graphics-win10-pro-grey_656938960/656939842.html',\n",
       " 'https://www.jd.id/product/apple-macbook-air-m1-chip-2020-mgnd3id-a-13-apple-m1-8-core-cpu-8gb-256gb-7-core-gpu-gold_624501287/624501288.html']"
      ]
     },
     "execution_count": 40,
     "metadata": {},
     "output_type": "execute_result"
    }
   ],
   "source": [
    "listofLinks"
   ]
  },
  {
   "cell_type": "markdown",
   "id": "9a5c38b7",
   "metadata": {},
   "source": [
    "Kita memperoleh 120 link. Maka sudah benar."
   ]
  },
  {
   "cell_type": "code",
   "execution_count": 22,
   "id": "6382aa49",
   "metadata": {},
   "outputs": [
    {
     "data": {
      "text/plain": [
       "120"
      ]
     },
     "execution_count": 22,
     "metadata": {},
     "output_type": "execute_result"
    }
   ],
   "source": [
    "len(listofLinks)"
   ]
  },
  {
   "cell_type": "markdown",
   "id": "849290ac",
   "metadata": {},
   "source": [
    "Selanjutnya, kita akan mengambil informasi nama produk, harga dan rating. Pertama, kita harus melakukan inspect di laman tempat kita lakukan web scraping. Lalu, untuk setiap produk kita harus mencari kelas yang sama yang mengandung informasi nama produk, harga dan rating. Diperoleh masing-masing informasi disimpan dalam class berikut.\n",
    "\n",
    "Ini adalah contoh untuk 1 link produk saja. Dengan perintah print(), diperoleh ketiga informasi tersebut."
   ]
  },
  {
   "cell_type": "code",
   "execution_count": 58,
   "id": "98ca19c9",
   "metadata": {},
   "outputs": [
    {
     "name": "stdout",
     "output_type": "stream",
     "text": [
      "ASUS Vivobook A509FA-FHD453 15.6\" FHD/Intel Celeron 4305U/4GB/512GB SSD/Intel UHD Graphics/WIN 10 + Office - Transparent Silver 5/5 5,667,000\n"
     ]
    }
   ],
   "source": [
    "testUrl= 'https://www.jd.id/product/asus-vivobook-a509fa-fhd453-15-6-fhd-intel-celeron-4305u-4gb-512gb-ssd-intel-uhd-graphics-win-10-office-transparent-silver_655905955/655906292.html'\n",
    "driver.get(testUrl)\n",
    "\n",
    "\n",
    "title1= driver.find_element_by_class_name('skuName').text\n",
    "rating1= driver.find_element_by_class_name('scores').text\n",
    "price1=driver.find_element_by_class_name('sale-price').text\n",
    "\n",
    "print(title1, rating1, price1)"
   ]
  },
  {
   "cell_type": "markdown",
   "id": "58f3c21e",
   "metadata": {},
   "source": [
    "Jika code di atas hanya untuk 1 produk saja, maka bagaimana jika kita mau mengambil informasi-informasi itu untuk semua link? Sama seperti sebelumnya, dapat kita lakukan dengan bantuan perintah looping dengan melakukan looping setiap link yang disimpan dalam listofLinks tadi. "
   ]
  },
  {
   "cell_type": "code",
   "execution_count": null,
   "id": "627ec1c9",
   "metadata": {},
   "outputs": [],
   "source": [
    "from selenium.common.exceptions import NoSuchElementException\n",
    "info=[]\n",
    "for i in listofLinks:\n",
    "    driver.get(i)\n",
    "    title1= driver.find_element_by_class_name('skuName').text\n",
    "    price1=driver.find_element_by_class_name('sale-price').text\n",
    "    rating1=driver.find_element_by_class_name('scores').text\n",
    "    \n",
    "    product={\n",
    "        'title' : title1,\n",
    "        'rating' : rating1,\n",
    "        'price' : price1\n",
    "    }\n",
    "    info.append(product)"
   ]
  },
  {
   "cell_type": "markdown",
   "id": "5679f9bd",
   "metadata": {},
   "source": [
    "Ups... rupanya kita dapatkan error :) \"NoSuchElementException: Message: no such element: Unable to locate element:...\"\n",
    "kira-kira begitu error nya. Nah,setelah dicek kembali ternyata ada produk yang tidak memiliki rating. Jadi class_name untuk rating tidak ditemukan. Nah, untuk kasus seperti ini kita bisa mengatasinya dengan perintah try dan except. Jadi, jika informasi yang kita minta (try) tidak ada, perintah tersebut akan melakukan perintah di except. Pada kasus ini kita akan meminta untuk dikembalikan nilai 'None'.\n",
    "\n",
    "\n",
    "Setelah beberapa kali running code, rupanya juga ada produk-produk yang tidak dapat ditemukan class_name produk dan harga nya. Saya kurang paham juga mengapa anyway :') Jadi untuk mengatasinya, semua informasi yang kita minta kita letakkan di bawah perintah try."
   ]
  },
  {
   "cell_type": "code",
   "execution_count": 55,
   "id": "c2775544",
   "metadata": {
    "scrolled": false
   },
   "outputs": [],
   "source": [
    "from selenium.common.exceptions import NoSuchElementException\n",
    "info=[]\n",
    "for i in listofLinks:\n",
    "    driver.get(i)\n",
    "\n",
    "    try:\n",
    "        rating1=driver.find_element_by_class_name('scores').text\n",
    "        title1= driver.find_element_by_class_name('skuName').text\n",
    "        price1=driver.find_element_by_class_name('sale-price').text\n",
    "    except NoSuchElementException as err:\n",
    "        rating1 = 'None'\n",
    "        title1= 'None'\n",
    "        price1= 'None'\n",
    "    \n",
    "    product={\n",
    "        'title' : title1,\n",
    "        'rating' : rating1,\n",
    "        'price' : price1\n",
    "    }\n",
    "    info.append(product)"
   ]
  },
  {
   "cell_type": "markdown",
   "id": "6c9719d3",
   "metadata": {},
   "source": [
    "Informasi setiap produk tadi kemudian kita simpan ke dalam data frame sebagai berikut."
   ]
  },
  {
   "cell_type": "code",
   "execution_count": 56,
   "id": "3eca47e4",
   "metadata": {},
   "outputs": [],
   "source": [
    "df1= pd.DataFrame(info)"
   ]
  },
  {
   "cell_type": "code",
   "execution_count": 57,
   "id": "c8e02695",
   "metadata": {},
   "outputs": [
    {
     "data": {
      "text/html": [
       "<div>\n",
       "<style scoped>\n",
       "    .dataframe tbody tr th:only-of-type {\n",
       "        vertical-align: middle;\n",
       "    }\n",
       "\n",
       "    .dataframe tbody tr th {\n",
       "        vertical-align: top;\n",
       "    }\n",
       "\n",
       "    .dataframe thead th {\n",
       "        text-align: right;\n",
       "    }\n",
       "</style>\n",
       "<table border=\"1\" class=\"dataframe\">\n",
       "  <thead>\n",
       "    <tr style=\"text-align: right;\">\n",
       "      <th></th>\n",
       "      <th>title</th>\n",
       "      <th>rating</th>\n",
       "      <th>price</th>\n",
       "    </tr>\n",
       "  </thead>\n",
       "  <tbody>\n",
       "    <tr>\n",
       "      <th>0</th>\n",
       "      <td>XIAOMI Redmi Book 15 (8GB+256GB) Layar 15.6 in...</td>\n",
       "      <td>4.9/5</td>\n",
       "      <td>6,699,000</td>\n",
       "    </tr>\n",
       "    <tr>\n",
       "      <th>1</th>\n",
       "      <td>INFINIX INBOOK X2 Intel Core i3-1005G1 /4GB/25...</td>\n",
       "      <td>4.7/5</td>\n",
       "      <td>5,999,000</td>\n",
       "    </tr>\n",
       "    <tr>\n",
       "      <th>2</th>\n",
       "      <td>ACER Aspire 3 Slim A314-35-C80W NX.A7SSN.00C [...</td>\n",
       "      <td>5/5</td>\n",
       "      <td>4,999,000</td>\n",
       "    </tr>\n",
       "    <tr>\n",
       "      <th>3</th>\n",
       "      <td>infinix laptop X1 core I3 8GB+256GB - Grey</td>\n",
       "      <td>4.9/5</td>\n",
       "      <td>6,999,000</td>\n",
       "    </tr>\n",
       "    <tr>\n",
       "      <th>4</th>\n",
       "      <td>LENOVO Ideapad Slim 1 11IGL05-05ID 11.6\" HD TN...</td>\n",
       "      <td>5/5</td>\n",
       "      <td>4,599,000</td>\n",
       "    </tr>\n",
       "    <tr>\n",
       "      <th>...</th>\n",
       "      <td>...</td>\n",
       "      <td>...</td>\n",
       "      <td>...</td>\n",
       "    </tr>\n",
       "    <tr>\n",
       "      <th>115</th>\n",
       "      <td>None</td>\n",
       "      <td>None</td>\n",
       "      <td>None</td>\n",
       "    </tr>\n",
       "    <tr>\n",
       "      <th>116</th>\n",
       "      <td>APPLE Macbook Air M1 Chip 2020 MGND3ID/A 13\"/A...</td>\n",
       "      <td>5/5</td>\n",
       "      <td>15,499,000</td>\n",
       "    </tr>\n",
       "    <tr>\n",
       "      <th>117</th>\n",
       "      <td>None</td>\n",
       "      <td>None</td>\n",
       "      <td>None</td>\n",
       "    </tr>\n",
       "    <tr>\n",
       "      <th>118</th>\n",
       "      <td>None</td>\n",
       "      <td>None</td>\n",
       "      <td>None</td>\n",
       "    </tr>\n",
       "    <tr>\n",
       "      <th>119</th>\n",
       "      <td>None</td>\n",
       "      <td>None</td>\n",
       "      <td>None</td>\n",
       "    </tr>\n",
       "  </tbody>\n",
       "</table>\n",
       "<p>120 rows × 3 columns</p>\n",
       "</div>"
      ],
      "text/plain": [
       "                                                 title rating       price\n",
       "0    XIAOMI Redmi Book 15 (8GB+256GB) Layar 15.6 in...  4.9/5   6,699,000\n",
       "1    INFINIX INBOOK X2 Intel Core i3-1005G1 /4GB/25...  4.7/5   5,999,000\n",
       "2    ACER Aspire 3 Slim A314-35-C80W NX.A7SSN.00C [...    5/5   4,999,000\n",
       "3           infinix laptop X1 core I3 8GB+256GB - Grey  4.9/5   6,999,000\n",
       "4    LENOVO Ideapad Slim 1 11IGL05-05ID 11.6\" HD TN...    5/5   4,599,000\n",
       "..                                                 ...    ...         ...\n",
       "115                                               None   None        None\n",
       "116  APPLE Macbook Air M1 Chip 2020 MGND3ID/A 13\"/A...    5/5  15,499,000\n",
       "117                                               None   None        None\n",
       "118                                               None   None        None\n",
       "119                                               None   None        None\n",
       "\n",
       "[120 rows x 3 columns]"
      ]
     },
     "execution_count": 57,
     "metadata": {},
     "output_type": "execute_result"
    }
   ],
   "source": [
    "df1"
   ]
  },
  {
   "cell_type": "markdown",
   "id": "5a9c3649",
   "metadata": {},
   "source": [
    "Diperoleh dimensi data frame 120 baris dan 3 kolom. Artinya ada 120 produk dengan 3 informasi yang tadi kita minta."
   ]
  }
 ],
 "metadata": {
  "kernelspec": {
   "display_name": "Python 3",
   "language": "python",
   "name": "python3"
  },
  "language_info": {
   "codemirror_mode": {
    "name": "ipython",
    "version": 3
   },
   "file_extension": ".py",
   "mimetype": "text/x-python",
   "name": "python",
   "nbconvert_exporter": "python",
   "pygments_lexer": "ipython3",
   "version": "3.8.8"
  }
 },
 "nbformat": 4,
 "nbformat_minor": 5
}
